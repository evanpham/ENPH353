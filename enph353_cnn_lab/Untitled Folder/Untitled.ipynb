{
 "cells": [
  {
   "cell_type": "code",
   "execution_count": null,
   "metadata": {},
   "outputs": [],
   "source": [
    "import math\n",
    "import numpy as np\n",
    "import re\n",
    "\n",
    "from matplotlib import pyplot as plt\n",
    "from PIL import Image"
   ]
  },
  {
   "cell_type": "code",
   "execution_count": 2,
   "metadata": {},
   "outputs": [
    {
     "name": "stdout",
     "output_type": "stream",
     "text": [
      "['ls:', 'cannot', 'access', \"'/ENPH353/enph353_cnn_lab/pictures':\", 'No', 'such', 'file', 'or', 'directory']\n"
     ]
    }
   ],
   "source": [
    "PATH = \"/ENPH353/enph353_cnn_lab/pictures\"\n",
    "labels = !ls \"{PATH}\"\n",
    "labels = labels[0].split()\n",
    "print(labels)"
   ]
  },
  {
   "cell_type": "code",
   "execution_count": 3,
   "metadata": {},
   "outputs": [
    {
     "ename": "NameError",
     "evalue": "global name 're' is not defined",
     "output_type": "error",
     "traceback": [
      "\u001b[0;31m---------------------------------------------------------------------------\u001b[0m",
      "\u001b[0;31mNameError\u001b[0m                                 Traceback (most recent call last)",
      "\u001b[0;32m<ipython-input-3-553719bae0ca>\u001b[0m in \u001b[0;36m<module>\u001b[0;34m()\u001b[0m\n\u001b[1;32m     29\u001b[0m \u001b[0mfolder1\u001b[0m \u001b[0;34m=\u001b[0m \u001b[0mPATH\u001b[0m \u001b[0;34m+\u001b[0m \u001b[0mlabels\u001b[0m\u001b[0;34m[\u001b[0m\u001b[0;36m1\u001b[0m\u001b[0;34m]\u001b[0m\u001b[0;34m\u001b[0m\u001b[0;34m\u001b[0m\u001b[0m\n\u001b[1;32m     30\u001b[0m \u001b[0;34m\u001b[0m\u001b[0m\n\u001b[0;32m---> 31\u001b[0;31m \u001b[0mfiles0\u001b[0m \u001b[0;34m=\u001b[0m \u001b[0mfiles_in_folder\u001b[0m\u001b[0;34m(\u001b[0m\u001b[0mfolder0\u001b[0m\u001b[0;34m)\u001b[0m\u001b[0;34m\u001b[0m\u001b[0;34m\u001b[0m\u001b[0m\n\u001b[0m\u001b[1;32m     32\u001b[0m \u001b[0mfiles1\u001b[0m \u001b[0;34m=\u001b[0m \u001b[0mfiles_in_folder\u001b[0m\u001b[0;34m(\u001b[0m\u001b[0mfolder1\u001b[0m\u001b[0;34m)\u001b[0m\u001b[0;34m\u001b[0m\u001b[0;34m\u001b[0m\u001b[0m\n",
      "\u001b[0;32m<ipython-input-3-553719bae0ca>\u001b[0m in \u001b[0;36mfiles_in_folder\u001b[0;34m(folder_path)\u001b[0m\n\u001b[1;32m     16\u001b[0m   \u001b[0;31m# Split the string listing sets of 4 files by tab and space and remove any\u001b[0m\u001b[0;34m\u001b[0m\u001b[0;34m\u001b[0m\u001b[0;34m\u001b[0m\u001b[0m\n\u001b[1;32m     17\u001b[0m   \u001b[0;31m# empty splits.\u001b[0m\u001b[0;34m\u001b[0m\u001b[0;34m\u001b[0m\u001b[0;34m\u001b[0m\u001b[0m\n\u001b[0;32m---> 18\u001b[0;31m   \u001b[0mfiles_B\u001b[0m \u001b[0;34m=\u001b[0m \u001b[0;34m[\u001b[0m\u001b[0mlist\u001b[0m\u001b[0;34m(\u001b[0m\u001b[0mfilter\u001b[0m\u001b[0;34m(\u001b[0m\u001b[0mNone\u001b[0m\u001b[0;34m,\u001b[0m \u001b[0mre\u001b[0m\u001b[0;34m.\u001b[0m\u001b[0msplit\u001b[0m\u001b[0;34m(\u001b[0m\u001b[0;34m'\\t|\\s'\u001b[0m\u001b[0;34m,\u001b[0m \u001b[0mfiles\u001b[0m\u001b[0;34m)\u001b[0m\u001b[0;34m)\u001b[0m\u001b[0;34m)\u001b[0m \u001b[0;32mfor\u001b[0m \u001b[0mfiles\u001b[0m \u001b[0;32min\u001b[0m \u001b[0mfiles_A\u001b[0m\u001b[0;34m]\u001b[0m\u001b[0;34m\u001b[0m\u001b[0;34m\u001b[0m\u001b[0m\n\u001b[0m\u001b[1;32m     19\u001b[0m \u001b[0;34m\u001b[0m\u001b[0m\n\u001b[1;32m     20\u001b[0m   \u001b[0;31m# Concatenate all splits into a single sorted list\u001b[0m\u001b[0;34m\u001b[0m\u001b[0;34m\u001b[0m\u001b[0;34m\u001b[0m\u001b[0m\n",
      "\u001b[0;31mNameError\u001b[0m: global name 're' is not defined"
     ]
    }
   ],
   "source": [
    "def files_in_folder(folder_path):\n",
    "  '''\n",
    "  Returns a list of strings where each entry is a file in the folder_path.\n",
    "  \n",
    "  Parameters\n",
    "  ----------\n",
    "  \n",
    "  folder_path : str\n",
    "     A string to folder for which the file listing is returned.\n",
    "     \n",
    "  '''\n",
    "  files_A = !ls \"{folder_path}\"\n",
    "  # The files when listed from Google Drive have a particular format. They are\n",
    "  # grouped in sets of 4 and have spaces and tabs as delimiters.\n",
    "  \n",
    "  # Split the string listing sets of 4 files by tab and space and remove any \n",
    "  # empty splits.\n",
    "  files_B = [list(filter(None, re.split('\\t|\\s', files))) for files in files_A]\n",
    "  \n",
    "  # Concatenate all splits into a single sorted list\n",
    "  files_C = []\n",
    "  for element in files_B:\n",
    "    files_C = files_C + element\n",
    "  files_C.sort()\n",
    "  \n",
    "  return files_C\n",
    "\n",
    "folder0 = PATH + labels[0]\n",
    "folder1 = PATH + labels[1]\n",
    "\n",
    "files0 = files_in_folder(folder0)\n",
    "files1 = files_in_folder(folder1)"
   ]
  },
  {
   "cell_type": "code",
   "execution_count": null,
   "metadata": {},
   "outputs": [],
   "source": []
  },
  {
   "cell_type": "code",
   "execution_count": null,
   "metadata": {},
   "outputs": [],
   "source": []
  }
 ],
 "metadata": {
  "kernelspec": {
   "display_name": "Python 2",
   "language": "python",
   "name": "python2"
  },
  "language_info": {
   "codemirror_mode": {
    "name": "ipython",
    "version": 2
   },
   "file_extension": ".py",
   "mimetype": "text/x-python",
   "name": "python",
   "nbconvert_exporter": "python",
   "pygments_lexer": "ipython2",
   "version": "2.7.15+"
  }
 },
 "nbformat": 4,
 "nbformat_minor": 2
}
