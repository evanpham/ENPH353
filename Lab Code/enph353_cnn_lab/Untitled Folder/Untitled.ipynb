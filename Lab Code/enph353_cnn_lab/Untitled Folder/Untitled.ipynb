{
 "cells": [
  {
   "cell_type": "code",
   "execution_count": 8,
   "metadata": {},
   "outputs": [],
   "source": [
    "import math\n",
    "import numpy as np\n",
    "\n",
    "\n",
    "from matplotlib import pyplot as plt\n",
    "from PIL import Image"
   ]
  },
  {
   "cell_type": "code",
   "execution_count": 22,
   "metadata": {},
   "outputs": [
    {
     "name": "stdout",
     "output_type": "stream",
     "text": [
      "['plate_AP24.png', 'plate_AY60.png', 'plate_CD52.png', 'plate_CZ77.png', 'plate_DE13.png', 'plate_EL58.png', 'plate_EQ24.png', 'plate_FK33.png', 'plate_FW41.png', 'plate_FW65.png', 'plate_FY89.png', 'plate_HR53.png', 'plate_HY86.png', 'plate_IJ63.png', 'plate_IK66.png', 'plate_IP62.png', 'plate_IP79.png', 'plate_JG76.png', 'plate_KE06.png', 'plate_KO19.png', 'plate_LL83.png', 'plate_LO28.png', 'plate_LU42.png', 'plate_MC22.png', 'plate_ND71.png', 'plate_OQ75.png', 'plate_OT35.png', 'plate_PH66.png', 'plate_PJ10.png', 'plate_PL99.png', 'plate_PM40.png', 'plate_PO43.png', 'plate_PP17.png', 'plate_PS51.png', 'plate_PZ81.png', 'plate_QI15.png', 'plate_QJ22.png', 'plate_RC83.png', 'plate_RN89.png', 'plate_RP93.png', 'plate_RQ13.png', 'plate_RQ34.png', 'plate_RW30.png', 'plate_SK70.png', 'plate_SQ48.png', 'plate_SY35.png', 'plate_TH93.png', 'plate_UP31.png', 'plate_UQ18.png', 'plate_UW19.png', 'plate_VF47.png', 'plate_VX49.png', 'plate_WB35.png', 'plate_WE25.png', 'plate_WI19.png', 'plate_WS52.png', 'plate_WV48.png', 'plate_XL37.png', 'plate_XP73.png', 'plate_YE06.png', 'plate_YH33.png', 'plate_YT95.png', 'plate_ZE77.png', 'plate_ZF92.png']\n"
     ]
    }
   ],
   "source": [
    "PATH = \"/home/gabriel/ENPH353/enph353_cnn_lab/pictures\"\n",
    "labels = !ls \"{PATH}\"\n",
    "print(labels)"
   ]
  },
  {
   "cell_type": "code",
   "execution_count": 23,
   "metadata": {},
   "outputs": [
    {
     "ename": "SyntaxError",
     "evalue": "invalid syntax (<ipython-input-23-6793d34558f1>, line 1)",
     "output_type": "error",
     "traceback": [
      "\u001b[0;36m  File \u001b[0;32m\"<ipython-input-23-6793d34558f1>\"\u001b[0;36m, line \u001b[0;32m1\u001b[0m\n\u001b[0;31m    imgset0 = np.array([[np.array(Image.open(f'{folder0}/{file}')), 0]\u001b[0m\n\u001b[0m                                                               ^\u001b[0m\n\u001b[0;31mSyntaxError\u001b[0m\u001b[0;31m:\u001b[0m invalid syntax\n"
     ]
    }
   ],
   "source": [
    "imgset0 = np.array([[np.array(Image.open(f'{folder0}/{file}')), 0]\n",
    "                    for file in files0[:]])\n",
    "print(\"Loaded {:} images from folder:\\n{}\".format(imgset0.shape[0], folder0))"
   ]
  },
  {
   "cell_type": "code",
   "execution_count": null,
   "metadata": {},
   "outputs": [],
   "source": []
  },
  {
   "cell_type": "code",
   "execution_count": null,
   "metadata": {},
   "outputs": [],
   "source": []
  }
 ],
 "metadata": {
  "kernelspec": {
   "display_name": "Python 2",
   "language": "python",
   "name": "python2"
  },
  "language_info": {
   "codemirror_mode": {
    "name": "ipython",
    "version": 2
   },
   "file_extension": ".py",
   "mimetype": "text/x-python",
   "name": "python",
   "nbconvert_exporter": "python",
   "pygments_lexer": "ipython2",
   "version": "2.7.15+"
  }
 },
 "nbformat": 4,
 "nbformat_minor": 2
}
